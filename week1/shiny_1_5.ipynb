{
 "cells": [
  {
   "cell_type": "markdown",
   "metadata": {},
   "source": [
    "library(shiny)"
   ]
  },
  {
   "cell_type": "markdown",
   "metadata": {},
   "source": [
    "# UI"
   ]
  },
  {
   "cell_type": "code",
   "execution_count": 3,
   "metadata": {},
   "outputs": [],
   "source": [
    "ui <- shinyUI(fluidPage(\n",
    "    titlePanel(\"Plot random numbers\"),\n",
    "    sidebarLayout(\n",
    "        sidebarPanel(\n",
    "            numericInput(\n",
    "                \"numeric\",\n",
    "                \"How many random numbers should be plotted?\",\n",
    "                value = 1000,\n",
    "                min = 1,\n",
    "                max = 1000,\n",
    "                step = 1\n",
    "            ),\n",
    "            sliderInput(\n",
    "                \"sliderX\",\n",
    "                \"Pick minimum and maximum X values\",\n",
    "                -100,\n",
    "                100,\n",
    "                value = c(-50, 50)\n",
    "            ),\n",
    "            sliderInput(\n",
    "                \"sliderY\",\n",
    "                \"Pick minimum and maximum Y values\",\n",
    "                -100,\n",
    "                100,\n",
    "                value = c(-50, 50)\n",
    "            ),\n",
    "            checkboxInput(\n",
    "                \"showXLab\",\n",
    "                \"Show/hide X axis label\",\n",
    "                value = TRUE\n",
    "            ),\n",
    "            checkboxInput(\n",
    "                \"showYLab\",\n",
    "                \"Show/hide Y axis label\",\n",
    "                value = TRUE\n",
    "            ),\n",
    "            checkboxInput(\n",
    "                \"showTitle\",\n",
    "                \"Show/hide title\",\n",
    "            ),\n",
    "        ),\n",
    "        mainPanel(\n",
    "            h3(\"Graph of random points\"),\n",
    "            plotOutput(\"plot1\")\n",
    "        )\n",
    "    )\n",
    "))"
   ]
  },
  {
   "cell_type": "markdown",
   "metadata": {},
   "source": [
    "# Server"
   ]
  },
  {
   "cell_type": "code",
   "execution_count": 4,
   "metadata": {},
   "outputs": [],
   "source": [
    "server <- shinyServer(function(input, output) {\n",
    "    output$plot1 <- renderPlot({\n",
    "        # set.seed(1234)\n",
    "        numPoint <- input$numeric\n",
    "        minX <- input$sliderX[1]\n",
    "        maxX <- input$sliderX[2]\n",
    "        minY <- input$sliderY[1]\n",
    "        maxY <- input$sliderY[2]\n",
    "        dataX <- runif(numPoint, minX, maxX)\n",
    "        dataY <- runif(numPoint, minY, maxY)\n",
    "        xlab <- ifelse(input$showXLab, \"X axis\", \"\")\n",
    "        ylab <- ifelse(input$showYLab, \"Y axis\", \"\")\n",
    "        main <- ifelse(input$showTitle, \"Title\", \"\")\n",
    "        plot(\n",
    "            dataX,\n",
    "            dataY,\n",
    "            xlab = xlab,\n",
    "            ylab = ylab,\n",
    "            main = main,\n",
    "            xlim = c(-100, 100),\n",
    "            ylim = c(-100, 100)\n",
    "        )\n",
    "    })\n",
    "})"
   ]
  },
  {
   "cell_type": "markdown",
   "metadata": {},
   "source": [
    "# Run"
   ]
  },
  {
   "cell_type": "code",
   "execution_count": 5,
   "metadata": {},
   "outputs": [
    {
     "name": "stderr",
     "output_type": "stream",
     "text": [
      "\n",
      "Listening on http://127.0.0.1:8080\n",
      "\n",
      "Warning message:\n",
      "“Error in runif: invalid arguments”\n",
      "Warning message:\n",
      "“Error in runif: invalid arguments”\n"
     ]
    }
   ],
   "source": [
    "options(shiny.port = 8080)\n",
    "runApp(shinyApp(ui, server))"
   ]
  }
 ],
 "metadata": {
  "kernelspec": {
   "display_name": "R",
   "language": "R",
   "name": "ir"
  },
  "language_info": {
   "codemirror_mode": "r",
   "file_extension": ".r",
   "mimetype": "text/x-r-source",
   "name": "R",
   "pygments_lexer": "r",
   "version": "3.6.2"
  }
 },
 "nbformat": 4,
 "nbformat_minor": 4
}
