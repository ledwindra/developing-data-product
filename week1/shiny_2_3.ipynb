{
 "cells": [
  {
   "cell_type": "code",
   "execution_count": 1,
   "metadata": {},
   "outputs": [],
   "source": [
    "library(shiny)"
   ]
  },
  {
   "cell_type": "markdown",
   "metadata": {},
   "source": [
    "# UI"
   ]
  },
  {
   "cell_type": "code",
   "execution_count": 2,
   "metadata": {},
   "outputs": [],
   "source": [
    "ui <- shinyUI(fluidPage(\n",
    "    titlePanel(\"Predict horsepower from MPG\"),\n",
    "    sidebarLayout(\n",
    "        sidebarPanel(\n",
    "            sliderInput(\n",
    "                \"sliderMPG\",\n",
    "                \"What is the MPG of the car?\",\n",
    "                10,\n",
    "                35,\n",
    "                value = 20 \n",
    "            ),\n",
    "            checkboxInput(\n",
    "                \"showModel1\",\n",
    "                \"Show/hide model 1\",\n",
    "                value = TRUE\n",
    "            ),\n",
    "            checkboxInput(\n",
    "                \"showModel2\",\n",
    "                \"Show/hide model 2\",\n",
    "                value = TRUE\n",
    "            ),\n",
    "            submitButton(\"Submit!\") # new\n",
    "        ),\n",
    "        mainPanel(\n",
    "            plotOutput(\"plot1\"),\n",
    "            h3(\"Predicted horsepower from model 1:\"),\n",
    "            textOutput(\"pred1\"),\n",
    "            h3(\"Predicted horsepower from model 2:\"),\n",
    "            textOutput(\"pred2\")\n",
    "        )\n",
    "    )\n",
    "))"
   ]
  },
  {
   "cell_type": "markdown",
   "metadata": {},
   "source": [
    "# Server"
   ]
  },
  {
   "cell_type": "code",
   "execution_count": 3,
   "metadata": {},
   "outputs": [],
   "source": [
    "server <- shinyServer(function(input, output) {\n",
    "    mtcars$mpgsp <- ifelse(mtcars$mpg - 20 > 0, mtcars$mpg - 20, 0)\n",
    "    model1 <- lm(hp ~ mpg, data = mtcars)\n",
    "    model2 <- lm(hp ~ mpgsp + mpg, data = mtcars)\n",
    "    model1pred <- reactive({\n",
    "        mpgInput <- input$sliderMPG\n",
    "        predict(model1, newdata = data.frame(mpg = mpgInput))\n",
    "    })\n",
    "    model2pred <- reactive({\n",
    "        mpgInput <- input$sliderMPG\n",
    "        predict(\n",
    "            model2,\n",
    "            newdata = data.frame(\n",
    "                mpg = mpgInput,\n",
    "                mpgsp = ifelse(mpgInput - 20 > 0, mpgInput - 20, 0)\n",
    "            )\n",
    "        )\n",
    "    })\n",
    "    output$plot1 <- renderPlot({\n",
    "        mpgInput <- input$sliderMPG\n",
    "        plot(\n",
    "            mtcars$mpg,\n",
    "            mtcars$hp,\n",
    "            xlab = \"Miles per gallon\",\n",
    "            ylab = \"Horsepower\",\n",
    "            bty = \"n\",\n",
    "            pch = 16,\n",
    "            xlim = c(10, 35),\n",
    "            ylim = c(50, 350)\n",
    "        )\n",
    "        if(input$showModel1) {\n",
    "            abline(model1, col = \"red\", lwd = 2)\n",
    "        }\n",
    "        if(input$showModel2) {\n",
    "            model2line <- predict(\n",
    "                model2,\n",
    "                newdata = data.frame(\n",
    "                    mpg = 10:35,\n",
    "                    mpgsp = ifelse(10:35 - 20 > 0, 10:35 - 20, 0)\n",
    "                )\n",
    "            )\n",
    "            lines(10:35, model2line, col = \"blue\", lwd = 2)\n",
    "        }\n",
    "        legend(\n",
    "            25,\n",
    "            250,\n",
    "            c(\"Model 1 prediction\", \"Model 2 prediction\"),\n",
    "            pch = 16,\n",
    "            col = c(\"red\", \"blue\"),\n",
    "            bty = \"n\",\n",
    "            cex = 1.2\n",
    "        )\n",
    "        points(mpgInput, model1pred(), col = \"red\", pch = 16, cex = 2)\n",
    "        points(mpgInput, model2pred(), col = \"blue\", pch = 16, cex = 2)\n",
    "    })\n",
    "    output$pred1 <- renderText({model1pred()})\n",
    "    output$pred2 <- renderText({model2pred()})\n",
    "})"
   ]
  },
  {
   "cell_type": "markdown",
   "metadata": {},
   "source": [
    "# Run"
   ]
  },
  {
   "cell_type": "code",
   "execution_count": 5,
   "metadata": {},
   "outputs": [
    {
     "name": "stderr",
     "output_type": "stream",
     "text": [
      "\n",
      "Listening on http://127.0.0.1:8080\n",
      "\n"
     ]
    }
   ],
   "source": [
    "options(shiny.port = 8080)\n",
    "runApp(shinyApp(ui, server))"
   ]
  }
 ],
 "metadata": {
  "kernelspec": {
   "display_name": "R",
   "language": "R",
   "name": "ir"
  },
  "language_info": {
   "codemirror_mode": "r",
   "file_extension": ".r",
   "mimetype": "text/x-r-source",
   "name": "R",
   "pygments_lexer": "r",
   "version": "3.6.2"
  }
 },
 "nbformat": 4,
 "nbformat_minor": 4
}
