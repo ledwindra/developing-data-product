{
 "cells": [
  {
   "cell_type": "code",
   "execution_count": null,
   "metadata": {},
   "outputs": [],
   "source": [
    "library(miniUI)\n",
    "library(shiny)"
   ]
  },
  {
   "cell_type": "code",
   "execution_count": null,
   "metadata": {},
   "outputs": [],
   "source": [
    "myFirstGadget <- function() {\n",
    "    ui <- miniPage(\n",
    "        gadgetTitleBar(\"My first gadget\")\n",
    "    )\n",
    "    server <- function(input, output, session) {\n",
    "        # the done button closes the server\n",
    "        observeEvent(input$done, {\n",
    "            stopApp()\n",
    "        })\n",
    "    }\n",
    "    runGadget(ui, server)\n",
    "}"
   ]
  },
  {
   "cell_type": "code",
   "execution_count": null,
   "metadata": {},
   "outputs": [],
   "source": [
    "myFirstGadget()"
   ]
  }
 ],
 "metadata": {
  "kernelspec": {
   "display_name": "R",
   "language": "R",
   "name": "ir"
  },
  "language_info": {
   "codemirror_mode": "r",
   "file_extension": ".r",
   "mimetype": "text/x-r-source",
   "name": "R",
   "pygments_lexer": "r",
   "version": "3.6.2"
  }
 },
 "nbformat": 4,
 "nbformat_minor": 4
}
