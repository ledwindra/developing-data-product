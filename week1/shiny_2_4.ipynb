{
 "cells": [
  {
   "cell_type": "code",
   "execution_count": null,
   "metadata": {},
   "outputs": [],
   "source": [
    "library(shiny)"
   ]
  },
  {
   "cell_type": "markdown",
   "metadata": {},
   "source": [
    "# UI"
   ]
  },
  {
   "cell_type": "code",
   "execution_count": null,
   "metadata": {},
   "outputs": [],
   "source": [
    "ui <- shinyUI(fluidPage(\n",
    "    titlePanel(\"Tabs\"),\n",
    "    sidebarLayout(\n",
    "        sidebarPanel(\n",
    "            textInput(\"box1\", \"Enter tab 1 text:\", value = \"Tab 1\"),\n",
    "            textInput(\"box2\", \"Enter tab 2 text:\", value = \"Tab 2\"),\n",
    "            textInput(\"box3\", \"Enter tab 3 text:\", value = \"Tab 3\"),\n",
    "        ),\n",
    "        mainPanel(\n",
    "            tabsetPanel(\n",
    "                type = \"tabs\",\n",
    "                tabPanel(\"Tab 1\", br(), textOutput(\"out1\")),\n",
    "                tabPanel(\"Tab 2\", br(), textOutput(\"out2\")),\n",
    "                tabPanel(\"Tab 3\", br(), textOutput(\"out3\"))\n",
    "            )\n",
    "        )\n",
    "    )\n",
    "))"
   ]
  },
  {
   "cell_type": "markdown",
   "metadata": {},
   "source": [
    "# Server"
   ]
  },
  {
   "cell_type": "code",
   "execution_count": null,
   "metadata": {},
   "outputs": [],
   "source": [
    "server <- shinyServer(function(input, output) {\n",
    "    output$out1 <- renderText(input$box1)\n",
    "    output$out2 <- renderText(input$box2)\n",
    "    output$out3 <- renderText(input$box3)\n",
    "})"
   ]
  },
  {
   "cell_type": "markdown",
   "metadata": {},
   "source": [
    "# Run"
   ]
  },
  {
   "cell_type": "code",
   "execution_count": null,
   "metadata": {},
   "outputs": [],
   "source": [
    "options(shiny.port = 8080)\n",
    "runApp(shinyApp(ui, server))"
   ]
  }
 ],
 "metadata": {
  "kernelspec": {
   "display_name": "R",
   "language": "R",
   "name": "ir"
  },
  "language_info": {
   "codemirror_mode": "r",
   "file_extension": ".r",
   "mimetype": "text/x-r-source",
   "name": "R",
   "pygments_lexer": "r",
   "version": "3.6.2"
  }
 },
 "nbformat": 4,
 "nbformat_minor": 4
}
