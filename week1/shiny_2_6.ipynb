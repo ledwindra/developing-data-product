{
 "cells": [
  {
   "cell_type": "code",
   "execution_count": null,
   "metadata": {},
   "outputs": [],
   "source": [
    "library(shiny)"
   ]
  },
  {
   "cell_type": "markdown",
   "metadata": {},
   "source": [
    "# UI"
   ]
  },
  {
   "cell_type": "code",
   "execution_count": null,
   "metadata": {},
   "outputs": [],
   "source": [
    "ui <- shinyUI(fluidPage(\n",
    "    titlePanel(\"Visualize many models\"),\n",
    "    sidebarLayout(\n",
    "        sidebarPanel(\n",
    "            h3(\"Slope\"),\n",
    "            textOutput(\"slopeOut\"),\n",
    "            h3(\"Intercept\"),\n",
    "            textOutput(\"intOut\")\n",
    "        ),\n",
    "        mainPanel(\n",
    "            plotOutput(\"plot1\", brush = brushOpts(\n",
    "                id = \"brush1\"\n",
    "            ))\n",
    "        )\n",
    "    )\n",
    "))"
   ]
  },
  {
   "cell_type": "markdown",
   "metadata": {},
   "source": [
    "# Server"
   ]
  },
  {
   "cell_type": "code",
   "execution_count": null,
   "metadata": {},
   "outputs": [],
   "source": [
    "server <- shinyServer(function(input, output) {\n",
    "    model <- reactive({\n",
    "        brushData <- brushedPoints(\n",
    "            trees,\n",
    "            input$brush1,\n",
    "            xvar = \"Girth\",\n",
    "            yvar = \"Volume\"\n",
    "        )\n",
    "        if(nrow(brushData) < 2) {\n",
    "            return(NULL)\n",
    "        }\n",
    "        lm(Volume ~ Girth, data = brushData)\n",
    "    })\n",
    "    output$slopeOut <- renderText({\n",
    "        if(is.null(model())) {\n",
    "            \"No model found\"\n",
    "        } else {\n",
    "            model()[[1]][2]\n",
    "        }\n",
    "    })\n",
    "    output$intOut <- renderText({\n",
    "        if(is.null(model())) {\n",
    "            \"No model found\"\n",
    "        } else {\n",
    "            model()[[1]][1]\n",
    "        }\n",
    "    })\n",
    "    output$plot1 <- renderPlot({\n",
    "        plot(\n",
    "            trees$Girth,\n",
    "            trees$Volume,\n",
    "            xlab = \"Girth\",\n",
    "            ylab = \"Volume\",\n",
    "            main = \"Tree measurements\",\n",
    "            cex = 1.5,\n",
    "            pch = 16,\n",
    "            bty = \"n\"\n",
    "        )\n",
    "        if(!is.null(model())) {\n",
    "            abline(model(), col = \"blue\", lwd = 2)\n",
    "        }\n",
    "    })\n",
    "})"
   ]
  },
  {
   "cell_type": "markdown",
   "metadata": {},
   "source": [
    "# Run"
   ]
  },
  {
   "cell_type": "code",
   "execution_count": null,
   "metadata": {},
   "outputs": [],
   "source": [
    "options(shiny.port = 8080)\n",
    "runApp(shinyApp(ui, server))"
   ]
  }
 ],
 "metadata": {
  "kernelspec": {
   "display_name": "R",
   "language": "R",
   "name": "ir"
  },
  "language_info": {
   "codemirror_mode": "r",
   "file_extension": ".r",
   "mimetype": "text/x-r-source",
   "name": "R",
   "pygments_lexer": "r",
   "version": "3.6.2"
  }
 },
 "nbformat": 4,
 "nbformat_minor": 4
}
