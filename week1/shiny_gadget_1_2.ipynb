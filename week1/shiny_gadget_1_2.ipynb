{
 "cells": [
  {
   "cell_type": "code",
   "execution_count": null,
   "metadata": {},
   "outputs": [],
   "source": [
    "library(miniUI)\n",
    "library(shiny)"
   ]
  },
  {
   "cell_type": "code",
   "execution_count": null,
   "metadata": {},
   "outputs": [],
   "source": [
    "multiplyNumbers <- function(num1, num2) {\n",
    "    ui <- miniPage(\n",
    "        gadgetTitleBar(\"Multiply two numbers\"),\n",
    "        miniContentPanel(\n",
    "            selectInput(\"num1\", \"First number\", choices = num1),\n",
    "            selectInput(\"num2\", \"First number\", choices = num2)\n",
    "        )\n",
    "    )\n",
    "    server <- function(input, output, session) {\n",
    "        # the done button closes the server\n",
    "        observeEvent(input$done, {\n",
    "            num1 <- as.numeric(input$num1)\n",
    "            num2 <- as.numeric(input$num2)\n",
    "            stopApp(num1 * num2)\n",
    "        })\n",
    "    }\n",
    "    runGadget(ui, server)\n",
    "}\n",
    "\n",
    "multiplyNumbers(1:10, 1:10)"
   ]
  }
 ],
 "metadata": {
  "kernelspec": {
   "display_name": "R",
   "language": "R",
   "name": "ir"
  },
  "language_info": {
   "codemirror_mode": "r",
   "file_extension": ".r",
   "mimetype": "text/x-r-source",
   "name": "R",
   "pygments_lexer": "r",
   "version": "3.6.2"
  }
 },
 "nbformat": 4,
 "nbformat_minor": 4
}
