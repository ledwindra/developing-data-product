{
 "cells": [
  {
   "cell_type": "code",
   "execution_count": null,
   "metadata": {},
   "outputs": [],
   "source": [
    "library(shiny)"
   ]
  },
  {
   "cell_type": "markdown",
   "metadata": {},
   "source": [
    "# UI"
   ]
  },
  {
   "cell_type": "code",
   "execution_count": null,
   "metadata": {},
   "outputs": [],
   "source": [
    "ui <- shinyUI(fluidPage(\n",
    "    titlePanel(\"Slider App\"),\n",
    "    sidebarLayout(\n",
    "        sidebarPanel(\n",
    "            h1(\"Move the slider!\"),\n",
    "            sliderInput(\"slider2\", \"Slide me!\", 0, 100, 0)\n",
    "        ),\n",
    "        mainPanel(\n",
    "            h3(\"Slider value: \"),\n",
    "            textOutput(\"text1\")\n",
    "        )\n",
    "    )\n",
    "))"
   ]
  },
  {
   "cell_type": "markdown",
   "metadata": {},
   "source": [
    "# Server"
   ]
  },
  {
   "cell_type": "code",
   "execution_count": null,
   "metadata": {},
   "outputs": [],
   "source": [
    "server <- shinyServer(function(input, output) {\n",
    "    output$text1 <- renderText(input$slider2 + 10)\n",
    "})"
   ]
  },
  {
   "cell_type": "markdown",
   "metadata": {},
   "source": [
    "# Run"
   ]
  },
  {
   "cell_type": "code",
   "execution_count": null,
   "metadata": {},
   "outputs": [],
   "source": [
    "# options(shiny.host = '0.0.0.0')\n",
    "options(shiny.port = 8080)\n",
    "runApp(shinyApp(ui, server))"
   ]
  }
 ],
 "metadata": {
  "kernelspec": {
   "display_name": "R",
   "language": "R",
   "name": "ir"
  },
  "language_info": {
   "codemirror_mode": "r",
   "file_extension": ".r",
   "mimetype": "text/x-r-source",
   "name": "R",
   "pygments_lexer": "r",
   "version": "3.6.2"
  }
 },
 "nbformat": 4,
 "nbformat_minor": 4
}
