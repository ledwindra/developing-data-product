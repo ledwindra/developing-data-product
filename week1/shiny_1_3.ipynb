{
 "cells": [
  {
   "cell_type": "code",
   "execution_count": 1,
   "metadata": {},
   "outputs": [],
   "source": [
    "library(shiny)"
   ]
  },
  {
   "cell_type": "markdown",
   "metadata": {},
   "source": [
    "# UI"
   ]
  },
  {
   "cell_type": "code",
   "execution_count": 2,
   "metadata": {},
   "outputs": [],
   "source": [
    "ui <- shinyUI(fluidPage(\n",
    "    titlePanel(\"HTML Tags\"),\n",
    "    sidebarLayout(\n",
    "        sidebarPanel(\n",
    "            h1(\"H1 Text\"),\n",
    "            h2(\"H2 Text\"),\n",
    "            h3(\"H3 Text\"),\n",
    "            em(\"Emphasized Text\")\n",
    "        ),\n",
    "        mainPanel(\n",
    "            h3(\"Main Panel Text\"),\n",
    "            code(\"Some Code\")\n",
    "        )\n",
    "    )\n",
    "))"
   ]
  },
  {
   "cell_type": "markdown",
   "metadata": {},
   "source": [
    "# Server"
   ]
  },
  {
   "cell_type": "code",
   "execution_count": 3,
   "metadata": {},
   "outputs": [],
   "source": [
    "server <- shinyServer(function(input, output) {\n",
    "    \n",
    "})"
   ]
  },
  {
   "cell_type": "markdown",
   "metadata": {},
   "source": [
    "# Run"
   ]
  },
  {
   "cell_type": "code",
   "execution_count": 6,
   "metadata": {},
   "outputs": [
    {
     "name": "stderr",
     "output_type": "stream",
     "text": [
      "\n",
      "Listening on http://127.0.0.1:3536\n",
      "\n"
     ]
    }
   ],
   "source": [
    "runApp(shinyApp(ui, server))"
   ]
  }
 ],
 "metadata": {
  "kernelspec": {
   "display_name": "R",
   "language": "R",
   "name": "ir"
  },
  "language_info": {
   "codemirror_mode": "r",
   "file_extension": ".r",
   "mimetype": "text/x-r-source",
   "name": "R",
   "pygments_lexer": "r",
   "version": "3.6.2"
  }
 },
 "nbformat": 4,
 "nbformat_minor": 4
}
