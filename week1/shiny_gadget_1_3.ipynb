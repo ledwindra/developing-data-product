{
 "cells": [
  {
   "cell_type": "code",
   "execution_count": null,
   "metadata": {},
   "outputs": [],
   "source": [
    "library(miniUI)\n",
    "library(shiny)"
   ]
  },
  {
   "cell_type": "code",
   "execution_count": null,
   "metadata": {},
   "outputs": [],
   "source": [
    "pickTrees <- function() {\n",
    "    ui <- miniPage(\n",
    "        gadgetTitleBar(\"Select points by dragging your mouse\"),\n",
    "        miniContentPanel(\n",
    "            plotOutput(\"plot\", height = \"100%\", brush = \"brush\")\n",
    "        )\n",
    "    )\n",
    "    server <- function(input, output, session) {\n",
    "        output$plot <- renderPlot({\n",
    "            plot(\n",
    "                trees$Girth,\n",
    "                trees$Volume,\n",
    "                main = \"Trees\",\n",
    "                xlab = \"Girth\",\n",
    "                ylab = \"Volume\"\n",
    "            )\n",
    "        })\n",
    "        # the done button closes the server\n",
    "        observeEvent(input$done, {\n",
    "            stopApp(brushedPoints(trees, input$brush, xvar = \"Girth\", yvar = \"Volume\"))\n",
    "        })\n",
    "    }\n",
    "    runGadget(ui, server)\n",
    "}\n",
    "\n",
    "pickTrees()"
   ]
  },
  {
   "cell_type": "code",
   "execution_count": null,
   "metadata": {},
   "outputs": [],
   "source": [
    "treesIPicked <- pickTrees()"
   ]
  },
  {
   "cell_type": "code",
   "execution_count": null,
   "metadata": {},
   "outputs": [],
   "source": [
    "treesIPicked"
   ]
  }
 ],
 "metadata": {
  "kernelspec": {
   "display_name": "R",
   "language": "R",
   "name": "ir"
  },
  "language_info": {
   "codemirror_mode": "r",
   "file_extension": ".r",
   "mimetype": "text/x-r-source",
   "name": "R",
   "pygments_lexer": "r",
   "version": "3.6.2"
  }
 },
 "nbformat": 4,
 "nbformat_minor": 4
}
